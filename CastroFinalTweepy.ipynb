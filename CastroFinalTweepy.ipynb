{
 "cells": [
  {
   "cell_type": "markdown",
   "metadata": {},
   "source": [
    "# Tweepy project- Extracting data from Twitter\n",
    "\n",
    "1.  Utilizing Python to sequentialize the data - Finding the latest tweet on any topic\n"
   ]
  },
  {
   "cell_type": "code",
   "execution_count": null,
   "metadata": {},
   "outputs": [],
   "source": [
    "consumer_key = '9ygXWU7HG2uQrKLy8fXxmijkg'\n",
    "consumer_secret = 'vHEdyUjArb8zzOtro9IEkzMS8LqXAKIcw8qs1DF59TsPPK5YiC'\n",
    "access_token = '2388010794-IkpDuYjDlFdkZoMEmaBBUWJ5kJxKWYp67lSoWXB'\n",
    "access_token_secret = 'Wp2Sa5iePAQEUeVcW7wiO01grRGv8YS3LridaL4MKJvx9'\n",
    "\n",
    "import tweepy\n",
    "import json\n",
    "\n",
    "class StdOutListener(tweepy.StreamListener):\n",
    "    def on_data(self, data):\n",
    "        decoded = json.loads(data)\n",
    "        file = open('stream.json', 'wb')\n",
    "        json.dump(decoded,file,sort_keys = True, indent = 4)\n",
    "        print \"Writing tweets to file,CTRL+C to terminate the program\"\n",
    "        \n",
    "        return True \n",
    "    \n",
    "    def on_error(self, status):\n",
    "        print status\n",
    "        \n",
    "if __name__ == '__main__':\n",
    "    leOne = StdOutListener()\n",
    "    auth = tweepy.OAuthHandler(consumer_key, consumer_secret)\n",
    "    auth.set_access_token(access_token, access_token_secret)\n",
    "\n",
    "    stream = tweepy.Stream(auth, leOne)\n",
    "    \n",
    "    stream.filter(track=[\"trump\"])\n",
    "    \n",
    "    "
   ]
  },
  {
   "cell_type": "code",
   "execution_count": null,
   "metadata": {},
   "outputs": [],
   "source": [
    "import json\n",
    "\n",
    "tweetFile = open(\"stream.json\")\n",
    "\n",
    "tweets = json.loads(tweetFile.read())\n",
    "\n",
    "tweetTexts = []\n",
    "for key in tweets:\n",
    "    if type(tweets[key]) == dict:\n",
    "        td = tweets[key]\n",
    "        for key in td:\n",
    "            if key=='text':\n",
    "                tweetTexts.append(td[key])\n",
    "                \n",
    "print tweetTexts\n",
    "    "
   ]
  },
  {
   "cell_type": "code",
   "execution_count": null,
   "metadata": {
    "collapsed": true
   },
   "outputs": [],
   "source": []
  }
 ],
 "metadata": {
  "kernelspec": {
   "display_name": "Python 2",
   "language": "python",
   "name": "python2"
  },
  "language_info": {
   "codemirror_mode": {
    "name": "ipython",
    "version": 2
   },
   "file_extension": ".py",
   "mimetype": "text/x-python",
   "name": "python",
   "nbconvert_exporter": "python",
   "pygments_lexer": "ipython2",
   "version": "2.7.13"
  }
 },
 "nbformat": 4,
 "nbformat_minor": 2
}
