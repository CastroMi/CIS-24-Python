{
 "cells": [
  {
   "cell_type": "code",
   "execution_count": 1,
   "metadata": {},
   "outputs": [
    {
     "name": "stderr",
     "output_type": "stream",
     "text": [
      "Python 2.7.13 :: Anaconda 4.4.0 (64-bit)\n"
     ]
    }
   ],
   "source": [
    "!python --version"
   ]
  },
  {
   "cell_type": "markdown",
   "metadata": {},
   "source": [
    "# Exercise 1 - if statement\n",
    "Write a python program to accept a number from the user.  Use the if statement to check to see if the number is greater than 100.  If the number is greater than 100, print the message \"Found a number greater than 100\""
   ]
  },
  {
   "cell_type": "code",
   "execution_count": 1,
   "metadata": {},
   "outputs": [
    {
     "name": "stdout",
     "output_type": "stream",
     "text": [
      "Pick a number any number:101\n",
      "Found a number greater than 100\n"
     ]
    }
   ],
   "source": [
    "Number = raw_input (\"Pick a number any number:\")\n",
    "Number = int(Number)\n",
    "\n",
    "if Number > 100: \n",
    "    print \"Found a number greater than 100\"\n"
   ]
  },
  {
   "cell_type": "markdown",
   "metadata": {},
   "source": [
    "# Exercise 2 - if...else statement\n",
    "Write a python program to accept the name of a user.  Use the If statement to check to see if the name is \"Joe\".  If the name is \"Joe\", print the message \"User Joe was entered\", otherwise if the name is not \"Joe\", print a message saying that \"User Joe was not entered\""
   ]
  },
  {
   "cell_type": "code",
   "execution_count": 3,
   "metadata": {},
   "outputs": [
    {
     "name": "stdout",
     "output_type": "stream",
     "text": [
      "What is your NameJoe\n",
      "User Joe was entered\n"
     ]
    }
   ],
   "source": [
    "userName = raw_input(\"What is your Name\")\n",
    "\n",
    "if userName == \"Joe\":\n",
    "    print \"User Joe was entered\"\n",
    "else:\n",
    "    print \"YOU ARE NOT JOE!!!\"\n"
   ]
  },
  {
   "cell_type": "code",
   "execution_count": 4,
   "metadata": {},
   "outputs": [
    {
     "name": "stdout",
     "output_type": "stream",
     "text": [
      "What is your NameMichael\n",
      "YOU ARE NOT JOE!!!\n"
     ]
    }
   ],
   "source": [
    "userName = raw_input(\"What is your Name\")\n",
    "\n",
    "if userName == \"Joe\":\n",
    "    print \"User Joe was entered\"\n",
    "else:\n",
    "    print \"YOU ARE NOT JOE!!!\"\n"
   ]
  },
  {
   "cell_type": "markdown",
   "metadata": {},
   "source": [
    "# Exercise 3 - if..elif...else statement \n",
    "Write a python program to accept the salary of the user. \n",
    "\n",
    "If the salary is less than 70,000, then print the message \"User salary is less than 70000\", otherwise if the salary is less than 100,000, print the message \"User salary is less than 100,000, otherwise, print the message \"User salary is greater than or equal to 100,000\"\n"
   ]
  },
  {
   "cell_type": "code",
   "execution_count": 9,
   "metadata": {},
   "outputs": [
    {
     "name": "stdout",
     "output_type": "stream",
     "text": [
      "What is your pay scale?60000\n",
      "You make less than 70000\n"
     ]
    }
   ],
   "source": [
    "employeeSalary = raw_input(\"What is your pay scale?\")\n",
    "employeeSalary = int(employeeSalary)\n",
    "\n",
    "if int(employeeSalary) in range(0,70000):\n",
    "    print \"You make less than 70000\"\n",
    "elif int(employeeSalary) in range(70000,100000):\n",
    "    print \"you make less then 100000, but you're moving on up kid!\"\n",
    "else:\n",
    "    print \"You make more than 100000, You're a BOSS!!!\""
   ]
  },
  {
   "cell_type": "code",
   "execution_count": 10,
   "metadata": {},
   "outputs": [
    {
     "name": "stdout",
     "output_type": "stream",
     "text": [
      "What is your pay scale?80000\n",
      "you make less then 100000, but you're moving on up kid!\n"
     ]
    }
   ],
   "source": [
    "employeeSalary = raw_input(\"What is your pay scale?\")\n",
    "employeeSalary = int(employeeSalary)\n",
    "\n",
    "if int(employeeSalary) in range(0,70000):\n",
    "    print \"You make less than 70000\"\n",
    "elif int(employeeSalary) in range(70000,100000):\n",
    "    print \"you make less then 100000, but you're moving on up kid!\"\n",
    "else:\n",
    "    print \"You make more than 100000, You're a BOSS!!!\""
   ]
  },
  {
   "cell_type": "code",
   "execution_count": 25,
   "metadata": {},
   "outputs": [
    {
     "name": "stdout",
     "output_type": "stream",
     "text": [
      "What is your pay scale?200000\n",
      "You make more than 100000, You're a BOSS!!!\n"
     ]
    }
   ],
   "source": [
    "employeeSalary = raw_input(\"What is your pay scale?\")\n",
    "employeeSalary = int(employeeSalary)\n",
    "\n",
    "if int(employeeSalary) in range(0,70000):\n",
    "    print \"You make less than 70000\"\n",
    "elif int(employeeSalary) in range(70000,100000):\n",
    "    print \"you make less then 100000, but you're moving on up kid!\"\n",
    "else:\n",
    "    print \"You make more than 100000, You're a BOSS!!!\""
   ]
  },
  {
   "cell_type": "markdown",
   "metadata": {},
   "source": [
    "# Exercise 4 - for loop\n",
    "\n",
    "Write a program to get a number from the user. Find the some of all numbers from 1 to the number that the user entered.\n",
    "\n",
    "For example, if the user enters 10, then you would need to find the sum of all numbers from 1 to 10 like so. Use the range statement in the for loop...see week 2 classwork for more information on the range statement\n",
    "\n",
    "1+2+3+4+5+6+7+8+9+10\n",
    "\n",
    "Print the result\n",
    "\n"
   ]
  },
  {
   "cell_type": "code",
   "execution_count": 23,
   "metadata": {},
   "outputs": [
    {
     "name": "stdout",
     "output_type": "stream",
     "text": [
      "Enter Magic Number:7\n",
      "0\n",
      "1\n",
      "3\n",
      "6\n",
      "10\n",
      "15\n",
      "21\n"
     ]
    }
   ],
   "source": [
    "magicNumber = int(raw_input(\"Enter Magic Number:\"))\n",
    "sum = 0\n",
    "for i in range(magicNumber):\n",
    "    sum = sum + i \n",
    "    print sum"
   ]
  },
  {
   "cell_type": "markdown",
   "metadata": {},
   "source": [
    "# Exercise 5 - While loop\n",
    "# Guessing a number.\n",
    "\n",
    "Initialize a variable called myNumber to any arbitrary value. For example, maybe you thought of a number 9\n",
    "\n",
    "Use the while loop to ask the user to enter a number. Check to see if the number entered by the user matches the number myNumber that you thought of. If there is a match, break from the while loop and print \"Yippee! User guessed the right number\". If there is no match allow the while loop to continue to ask the user for a number until a match is found\n"
   ]
  },
  {
   "cell_type": "code",
   "execution_count": 24,
   "metadata": {},
   "outputs": [
    {
     "name": "stdout",
     "output_type": "stream",
     "text": [
      "Enter a number:6\n",
      "Winner Winner Chicken Dinner!:\n"
     ]
    }
   ],
   "source": [
    "myNumber = 6\n",
    "while True:\n",
    "    number = int(raw_input(\"Enter a number:\"))\n",
    "    \n",
    "    if number == myNumber:\n",
    "        print \"Winner Winner Chicken Dinner!:\"\n",
    "        break\n",
    "    else:\n",
    "        print \"Ahhh...next time buddy...Keep Guessing:\""
   ]
  },
  {
   "cell_type": "code",
   "execution_count": null,
   "metadata": {},
   "outputs": [
    {
     "name": "stdout",
     "output_type": "stream",
     "text": [
      "Enter a number:10\n",
      "Ahhh...next time buddy...Keep Guessing:\n"
     ]
    }
   ],
   "source": [
    "myNumber = 6\n",
    "while True:\n",
    "    number = int(raw_input(\"Enter a number:\"))\n",
    "    \n",
    "    if number == myNumber:\n",
    "        print \"Winner Winner Chicken Dinner!:\"\n",
    "        break\n",
    "    else:\n",
    "        print \"Ahhh...next time buddy...Keep Guessing:\""
   ]
  },
  {
   "cell_type": "code",
   "execution_count": null,
   "metadata": {
    "collapsed": true
   },
   "outputs": [],
   "source": []
  }
 ],
 "metadata": {
  "kernelspec": {
   "display_name": "Python 2",
   "language": "python",
   "name": "python2"
  },
  "language_info": {
   "codemirror_mode": {
    "name": "ipython",
    "version": 2
   },
   "file_extension": ".py",
   "mimetype": "text/x-python",
   "name": "python",
   "nbconvert_exporter": "python",
   "pygments_lexer": "ipython2",
   "version": "2.7.13"
  }
 },
 "nbformat": 4,
 "nbformat_minor": 2
}
