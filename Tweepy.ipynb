{
 "cells": [
  {
   "cell_type": "markdown",
   "metadata": {},
   "source": [
    "# Tweepy project- Extracting data from Twitter\n",
    "\n",
    "1.  Utilizing Python to sequentialize the data - Finding the most used word phrasings for animation\n",
    "\n",
    "2.  Utilizing Python for data visualization \"Word Cloud\" to pull relay the need for particular content\n",
    "\n",
    "3.  Finally, and ambitiously, creating a short how to video about the animnation content there seems to be a need for \n"
   ]
  },
  {
   "cell_type": "code",
   "execution_count": null,
   "metadata": {
    "collapsed": true
   },
   "outputs": [],
   "source": [
    "#Load the Data"
   ]
  },
  {
   "cell_type": "code",
   "execution_count": 8,
   "metadata": {},
   "outputs": [
    {
     "ename": "SyntaxError",
     "evalue": "can't assign to literal (<ipython-input-8-737df05cf31d>, line 22)",
     "output_type": "error",
     "traceback": [
      "\u001b[1;36m  File \u001b[1;32m\"<ipython-input-8-737df05cf31d>\"\u001b[1;36m, line \u001b[1;32m22\u001b[0m\n\u001b[1;33m    1 = StdOutListener()\u001b[0m\n\u001b[1;31mSyntaxError\u001b[0m\u001b[1;31m:\u001b[0m can't assign to literal\n"
     ]
    }
   ],
   "source": [
    "consumer_key = '9ygXWU7HG2uQrKLy8fXxmijkg'\n",
    "consumer_secret = 'vHEdyUjArb8zzOtro9IEkzMS8LqXAKIcw8qs1DF59TsPPK5YiC'\n",
    "access_token = '2388010794-IkpDuYjDlFdkZoMEmaBBUWJ5kJxKWYp67lSoWXB'\n",
    "access_token_secret = 'Wp2Sa5iePAQEUeVcW7wiO01grRGv8YS3LridaL4MKJvx9'\n",
    "\n",
    "import tweepy\n",
    "import json\n",
    "\n",
    "class StdOutListener(tweepy.StreamListener):\n",
    "    def on_data(self, data):\n",
    "        decoded = json.loads(data)\n",
    "        file = open('stream.json', 'wb')\n",
    "        json.dump(decoded,file,sort_keys = True, indent = 4)\n",
    "        print \"Writing tweets to file,CTRL+C to terminate the program\"\n",
    "        \n",
    "        return True \n",
    "    \n",
    "    def on_error(self, status):\n",
    "        print status\n",
    "        \n",
    "if __name__ == '__main__':\n",
    "    1 = StdOutListener()\n",
    "    auth = tweepy.OAuthHandler(consumer_key, consumer_secret)\n",
    "    auth.set_access_token(access_token, access_token_secret)\n",
    "\n",
    "    stream = tweepy.Stream(auth, 1)\n",
    "    \n",
    "    stream.filter(track=[\"#python\"])\n",
    "    \n",
    "    "
   ]
  },
  {
   "cell_type": "code",
   "execution_count": null,
   "metadata": {
    "collapsed": true
   },
   "outputs": [],
   "source": []
  }
 ],
 "metadata": {
  "kernelspec": {
   "display_name": "Python 2",
   "language": "python",
   "name": "python2"
  },
  "language_info": {
   "codemirror_mode": {
    "name": "ipython",
    "version": 2
   },
   "file_extension": ".py",
   "mimetype": "text/x-python",
   "name": "python",
   "nbconvert_exporter": "python",
   "pygments_lexer": "ipython2",
   "version": "2.7.13"
  }
 },
 "nbformat": 4,
 "nbformat_minor": 2
}
